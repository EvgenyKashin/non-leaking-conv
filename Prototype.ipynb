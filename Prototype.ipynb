{
 "cells": [
  {
   "cell_type": "code",
   "execution_count": null,
   "id": "stupid-morning",
   "metadata": {},
   "outputs": [],
   "source": [
    "import sys\n",
    "import functools\n",
    "import numpy as np\n",
    "\n",
    "import torch\n",
    "from torch import Tensor\n",
    "import torch.nn as nn\n",
    "import torch.nn.functional as F\n",
    "import torchvision\n",
    "\n",
    "import pytorch_lightning as pl\n",
    "from pl_bolts.datamodules import CIFAR10DataModule\n",
    "from pl_bolts.transforms.dataset_normalizations import cifar10_normalization\n",
    "\n",
    "from typing import Union, Tuple\n",
    "\n",
    "import matplotlib.pyplot as plt"
   ]
  },
  {
   "cell_type": "code",
   "execution_count": null,
   "id": "rural-mining",
   "metadata": {},
   "outputs": [],
   "source": [
    "pl.seed_everything(24)"
   ]
  },
  {
   "cell_type": "code",
   "execution_count": null,
   "id": "promotional-shoulder",
   "metadata": {},
   "outputs": [],
   "source": [
    "batch_size = 32\n",
    "\n",
    "train_transforms = torchvision.transforms.Compose([\n",
    "    torchvision.transforms.RandomCrop(32, padding=4),\n",
    "    torchvision.transforms.RandomHorizontalFlip(),\n",
    "    torchvision.transforms.ToTensor(),\n",
    "    cifar10_normalization(),\n",
    "])\n",
    "\n",
    "test_transforms = torchvision.transforms.Compose([\n",
    "    torchvision.transforms.ToTensor(),\n",
    "    cifar10_normalization(),\n",
    "])\n",
    "\n",
    "cifar10_dm = CIFAR10DataModule(\n",
    "    batch_size=batch_size,\n",
    "    train_transforms=train_transforms,\n",
    "    test_transforms=test_transforms,\n",
    "    val_transforms=test_transforms,\n",
    ")"
   ]
  },
  {
   "cell_type": "code",
   "execution_count": null,
   "id": "instructional-order",
   "metadata": {},
   "outputs": [],
   "source": [
    "cifar10_dm"
   ]
  },
  {
   "cell_type": "code",
   "execution_count": null,
   "id": "juvenile-integrity",
   "metadata": {},
   "outputs": [],
   "source": [
    "hamming1d = np.hamming(7)\n",
    "hamming2d = np.sqrt(np.outer(hamming1d, hamming1d))"
   ]
  },
  {
   "cell_type": "code",
   "execution_count": null,
   "id": "pleased-indonesian",
   "metadata": {},
   "outputs": [],
   "source": [
    "plt.imshow(hamming2d)"
   ]
  },
  {
   "cell_type": "code",
   "execution_count": null,
   "id": "yellow-algeria",
   "metadata": {},
   "outputs": [],
   "source": [
    "def create_model(first_downsampling=True):\n",
    "    model = torchvision.models.resnet18(pretrained=False, num_classes=10)\n",
    "    if not first_downsampling:\n",
    "        model.conv1 = nn.Conv2d(3, 64, kernel_size=(3, 3), stride=(1, 1), padding=(1, 1), bias=False)\n",
    "        model.maxpool = nn.Identity()\n",
    "    return model"
   ]
  },
  {
   "cell_type": "code",
   "execution_count": null,
   "id": "thirty-crossing",
   "metadata": {},
   "outputs": [],
   "source": [
    "def partialclass(name, cls, *args, **kwargs):\n",
    "    # could I name it \"Abstract Fabric\" lol?\n",
    "    \n",
    "    NewCls = type(name, (cls,), {\n",
    "        '__init__': functools.partialmethod(cls.__init__, *args, **kwargs)\n",
    "    })\n",
    "\n",
    "    \"\"\"\n",
    "    # For pickling to work, the __module__ variable needs to be set to the frame\n",
    "    # where the named tuple is created.  Bypass this step in enviroments where\n",
    "    # sys._getframe is not defined (Jython for example) or sys._getframe is not\n",
    "    # defined for arguments greater than 0 (IronPython).\n",
    "    \"\"\"\n",
    "    try:\n",
    "        NewCls.__module__ = sys._getframe(1).f_globals.get('__name__', '__main__')\n",
    "    except (AttributeError, ValueError):\n",
    "        pass\n",
    "    \n",
    "    return NewCls\n",
    "\n",
    "\n",
    "def make_tuple(x):\n",
    "    if isinstance(x, int):\n",
    "        x = (x, x)\n",
    "    return x\n",
    "\n",
    "\n",
    "class Conv2dHamming(nn.Module):\n",
    "    def __init__(self, in_channels: int,\n",
    "                 out_channels: int,\n",
    "                 kernel_size: Union[int, Tuple[int, int]],\n",
    "                 stride: Union[int, Tuple[int, int]] = 1,\n",
    "                 padding: Union[int, Tuple[int, int]] = 0,\n",
    "                 dilation: Union[int, Tuple[int, int]] = 1,\n",
    "                 groups: int = 1,\n",
    "                 bias: bool = True):\n",
    "        super(Conv2dHamming, self).__init__()\n",
    "        \n",
    "        kernel_size = make_tuple(kernel_size)\n",
    "        stride = make_tuple(stride)\n",
    "        padding = make_tuple(padding)\n",
    "        dilation = make_tuple(dilation)\n",
    "\n",
    "        self.weight = nn.Parameter(\n",
    "            torch.zeros(out_channels, in_channels, kernel_size[0], kernel_size[1])\n",
    "        )\n",
    "        nn.init.kaiming_normal_(self.weight, mode='fan_out', nonlinearity='relu')\n",
    "        \n",
    "        if bias is not None:\n",
    "            self.bias = nn.Parameter(torch.zeros(out_channels))\n",
    "        else:\n",
    "            self.bias = None\n",
    "        \n",
    "        hamming2d = np.sqrt(np.outer(np.hamming(kernel_size[0]), np.hamming(kernel_size[1])))\n",
    "        self.register_buffer('hamming2d', torch.from_numpy(hamming2d).to(torch.float32))\n",
    "        \n",
    "        self.in_channels = in_channels\n",
    "        self.out_channels = out_channels\n",
    "        self.kernel_size = kernel_size\n",
    "        self.stride = stride\n",
    "        self.padding = padding\n",
    "        self.dilation = dilation\n",
    "        self.groups = groups\n",
    "    \n",
    "    def transform_weight(self):\n",
    "        return self.weight * self.hamming2d\n",
    "\n",
    "\n",
    "    def forward(self, input: Tensor) -> Tensor:\n",
    "        out = F.conv2d(input, self.transform_weight(), self.bias, self.stride,\n",
    "                       self.padding, self.dilation)\n",
    "        return out\n",
    "\n",
    "    def __repr__(self):\n",
    "        return (\n",
    "            f\"{self.__class__.__name__}({self.weight.shape[1]}, {self.weight.shape[0]},\"\n",
    "            f\" kernel_size={self.kernel_size}, stride={self.stride}, padding={self.padding},\"\n",
    "            f\" bias={self.bias is not None})\"\n",
    "        )\n",
    "\n",
    "\n",
    "class Conv2dFactorized(nn.Module):\n",
    "    def __init__(self, in_channels: int,\n",
    "                 out_channels: int,\n",
    "                 kernel_size: Union[int, Tuple[int, int]],\n",
    "                 stride: Union[int, Tuple[int, int]] = 1,\n",
    "                 padding: Union[int, Tuple[int, int]] = 0,\n",
    "                 dilation: Union[int, Tuple[int, int]] = 1,\n",
    "                 groups: int = 1,\n",
    "                 bias: bool = True,\n",
    "                 ConvClass=nn.Conv2d):\n",
    "        super(Conv2dFactorized, self).__init__()\n",
    "        \n",
    "        kernel_size = make_tuple(kernel_size)\n",
    "        stride = make_tuple(stride)\n",
    "        padding = make_tuple(padding)\n",
    "        dilation = make_tuple(dilation)\n",
    "        \n",
    "        self.conv1 = ConvClass(in_channels, out_channels, (kernel_size[0], 1),\n",
    "                               (stride[0], 1), (padding[0], 0), (dilation[0], 1),\n",
    "                               groups, bias)\n",
    "        self.conv2 = ConvClass(out_channels, out_channels, (1, kernel_size[1]),\n",
    "                               (1, stride[1]), (0, padding[1]), (1, dilation[1]),\n",
    "                               groups, bias)\n",
    "        \n",
    "        nn.init.kaiming_normal_(self.conv1.weight, mode='fan_out', nonlinearity='relu')\n",
    "        nn.init.kaiming_normal_(self.conv2.weight, mode='fan_out', nonlinearity='relu')\n",
    "    \n",
    "    def forward(self, input: Tensor) -> Tensor:\n",
    "        x = self.conv1(input)\n",
    "        return self.conv2(x)\n",
    "\n",
    "    \n",
    "Conv2dHamingFactorized = partialclass('Conv2dHamingFactorized',\n",
    "                                      Conv2dFactorized, ConvClass=Conv2dHamming)\n",
    "\n",
    "\n",
    "def modify_model(model, kernel=3, padding=1, factorized=False, hamming=False, big_first=False):\n",
    "    def _replace_layer(modules, parent_name, parent_module):\n",
    "        for cur_name, cur_module in modules.items():\n",
    "            if isinstance(cur_module, nn.Conv2d) and cur_module.kernel_size == (3, 3):\n",
    "                \n",
    "                if factorized and hamming:\n",
    "                    ConvClass = Conv2dHamingFactorized\n",
    "                elif factorized:\n",
    "                    ConvClass = Conv2dFactorized\n",
    "                elif hamming:\n",
    "                    ConvClass = Conv2dHamming\n",
    "                else:\n",
    "                    ConvClass = nn.Conv2d\n",
    "                \n",
    "                if big_first and cur_module.in_channels == 3:\n",
    "                    new_kernel = 9\n",
    "                    new_padding = 5\n",
    "                else:\n",
    "                    new_kernel = kernel\n",
    "                    new_padding = padding\n",
    "                    \n",
    "                new_conv = ConvClass(cur_module.in_channels,\n",
    "                                     cur_module.out_channels,\n",
    "                                     kernel,\n",
    "                                     cur_module.stride,\n",
    "                                     padding,\n",
    "                                     cur_module.dilation,\n",
    "                                     cur_module.groups,\n",
    "                                     cur_module.bias)\n",
    "                setattr(parent_module, cur_name, new_conv)\n",
    "\n",
    "            if len(cur_module._modules) > 0:\n",
    "                _replace_layer(cur_module._modules, cur_name, cur_module)\n",
    "    _replace_layer(model._modules, 'base', model)\n",
    "\n",
    "    \n",
    "def decrease_channel_width(model, coeff):\n",
    "    def _decrease_func(modules, parent_name, parent_module):\n",
    "        for cur_name, cur_module in modules.items():\n",
    "            if isinstance(cur_module, nn.Conv2d) or isinstance(cur_module, Conv2dHamming):\n",
    "                ConvClass = type(cur_module)\n",
    "                in_channels = int(cur_module.in_channels * coeff)\n",
    "                if cur_module.in_channels == 3:\n",
    "                    in_channels = 3\n",
    "                new_conv = ConvClass(in_channels,\n",
    "                                     int(cur_module.out_channels * coeff),\n",
    "                                     cur_module.kernel_size,\n",
    "                                     cur_module.stride,\n",
    "                                     cur_module.padding,\n",
    "                                     cur_module.dilation,\n",
    "                                     cur_module.groups,\n",
    "                                     cur_module.bias)\n",
    "                setattr(parent_module, cur_name, new_conv)\n",
    "\n",
    "            elif isinstance(cur_module, nn.BatchNorm2d):\n",
    "                new_bn = nn.BatchNorm2d(int(cur_module.num_features * coeff))\n",
    "                setattr(parent_module, cur_name, new_bn)\n",
    "\n",
    "            elif isinstance(cur_module, nn.Linear):\n",
    "                new_ln = nn.Linear(int(cur_module.in_features * coeff), cur_module.out_features)\n",
    "                setattr(parent_module, cur_name, new_ln)\n",
    "\n",
    "            if len(cur_module._modules) > 0:\n",
    "                _decrease_func(cur_module._modules, cur_name, cur_module)\n",
    "\n",
    "    _decrease_func(model._modules, 'base', model)\n",
    "\n",
    "\n",
    "def create_custom_model(kernel=3, padding=1, factorized=False, hamming=False,\n",
    "                        big_first=False, wm=1, first_downsampling=False):\n",
    "    model = create_model(first_downsampling=first_downsampling)\n",
    "    modify_model(model, kernel, padding, factorized, hamming, big_first)\n",
    "    decrease_channel_width(model, wm)\n",
    "    return model\n",
    "\n",
    "\n",
    "def calc_params(model):\n",
    "    total_params = 0\n",
    "    per_layer_params = {}\n",
    "    for name, module in model.named_modules():\n",
    "        layer_params = 0\n",
    "        if hasattr(module, \"weight\") and hasattr(module.weight, \"size\"):\n",
    "            layer_params += np.product(list(module.weight.size()))\n",
    "        if hasattr(module, \"bias\") and hasattr(module.bias, \"size\"):\n",
    "            layer_params += np.product(list(module.bias.size()))\n",
    "        \n",
    "        if layer_params != 0:\n",
    "            per_layer_params[name] = layer_params\n",
    "            total_params += layer_params\n",
    "\n",
    "    return total_params, per_layer_params"
   ]
  },
  {
   "cell_type": "code",
   "execution_count": null,
   "id": "forced-twins",
   "metadata": {},
   "outputs": [],
   "source": [
    "resnet = create_model(False)\n",
    "\n",
    "resnet_narrow = create_custom_model(wm=28/64)\n",
    "resnet_factorized = create_custom_model(factorized=True)\n",
    "\n",
    "resnet_7x7_narrow = create_custom_model(7, 3, big_first=True, wm=28/64)\n",
    "resnet_7x7_factorized = create_custom_model(7, 3, big_first=True, factorized=True, wm=50/64)\n",
    "\n",
    "resnet_7x7_hamming_narrow = create_custom_model(7, 3, hamming=True,\n",
    "                                                big_first=True, wm=28/64)\n",
    "resnet_7x7_hamming_factorized = create_custom_model(7, 3, hamming=True,\n",
    "                                                    big_first=True, factorized=True, wm=50/64)"
   ]
  },
  {
   "cell_type": "code",
   "execution_count": null,
   "id": "endless-tactics",
   "metadata": {},
   "outputs": [],
   "source": [
    "calc_params(resnet)[0] // 1e6"
   ]
  },
  {
   "cell_type": "code",
   "execution_count": null,
   "id": "objective-router",
   "metadata": {},
   "outputs": [],
   "source": [
    "calc_params(resnet_narrow)[0] // 1e6"
   ]
  },
  {
   "cell_type": "code",
   "execution_count": null,
   "id": "double-orleans",
   "metadata": {},
   "outputs": [],
   "source": [
    "calc_params(resnet_factorized)[0] // 1e6"
   ]
  },
  {
   "cell_type": "code",
   "execution_count": null,
   "id": "golden-explosion",
   "metadata": {},
   "outputs": [],
   "source": [
    "calc_params(resnet_7x7_narrow)[0] // 1e6"
   ]
  },
  {
   "cell_type": "code",
   "execution_count": null,
   "id": "reported-leadership",
   "metadata": {},
   "outputs": [],
   "source": [
    "calc_params(resnet_7x7_factorized)[0] // 1e6"
   ]
  },
  {
   "cell_type": "code",
   "execution_count": null,
   "id": "cathedral-poverty",
   "metadata": {},
   "outputs": [],
   "source": [
    "calc_params(resnet_7x7_hamming_narrow)[0] // 1e6"
   ]
  },
  {
   "cell_type": "code",
   "execution_count": null,
   "id": "composed-edwards",
   "metadata": {},
   "outputs": [],
   "source": [
    "calc_params(resnet_7x7_hamming_factorized)[0] // 1e6"
   ]
  },
  {
   "cell_type": "markdown",
   "id": "cooperative-slovenia",
   "metadata": {},
   "source": [
    "---"
   ]
  },
  {
   "cell_type": "code",
   "execution_count": null,
   "id": "acute-lounge",
   "metadata": {},
   "outputs": [],
   "source": [
    "import torchsummary"
   ]
  },
  {
   "cell_type": "code",
   "execution_count": null,
   "id": "immune-margin",
   "metadata": {
    "scrolled": false
   },
   "outputs": [],
   "source": [
    "torchsummary.summary(resnet_7x7_factorized, (3, 32, 32), device='cpu')"
   ]
  },
  {
   "cell_type": "code",
   "execution_count": null,
   "id": "negative-barrel",
   "metadata": {
    "scrolled": false
   },
   "outputs": [],
   "source": [
    "torchsummary.summary(resnet_7x7_hamming_factorized, (3, 32, 32), device='cpu')"
   ]
  },
  {
   "cell_type": "code",
   "execution_count": null,
   "id": "double-survival",
   "metadata": {},
   "outputs": [],
   "source": []
  }
 ],
 "metadata": {
  "kernelspec": {
   "display_name": "Python 3",
   "language": "python",
   "name": "python3"
  },
  "language_info": {
   "codemirror_mode": {
    "name": "ipython",
    "version": 3
   },
   "file_extension": ".py",
   "mimetype": "text/x-python",
   "name": "python",
   "nbconvert_exporter": "python",
   "pygments_lexer": "ipython3",
   "version": "3.8.5"
  }
 },
 "nbformat": 4,
 "nbformat_minor": 5
}
